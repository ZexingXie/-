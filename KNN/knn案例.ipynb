{
 "cells": [
  {
   "cell_type": "markdown",
   "metadata": {},
   "source": [
    "## 第2章，knn"
   ]
  },
  {
   "cell_type": "code",
   "execution_count": 2,
   "metadata": {},
   "outputs": [
    {
     "data": {
      "text/plain": [
       "0.6"
      ]
     },
     "execution_count": 2,
     "metadata": {},
     "output_type": "execute_result"
    }
   ],
   "source": [
    "import numpy as np\n",
    "from sklearn.metrics import accuracy_score # 计算accuracy\n",
    "y_true = [1, 1, 0, 1, 0]\n",
    "y_pred = [1, 1, 1, 0, 0]\n",
    "score = accuracy_score(y_true, y_pred)\n",
    "score"
   ]
  },
  {
   "cell_type": "code",
   "execution_count": 16,
   "metadata": {},
   "outputs": [
    {
     "name": "stdout",
     "output_type": "stream",
     "text": [
      "c\n"
     ]
    }
   ],
   "source": [
    "import numpy as np\n",
    "import operator\n",
    "\n",
    "def _distance(x,y):\n",
    "    return (np.sum((x-y)**2))**(1/2) # 采用欧式距离\n",
    "\n",
    "def knn(dataSet,labels,k):\n",
    "    # dataSet，labels是np.array\n",
    "    def model(x):\n",
    "        dist_list = []\n",
    "        for e in dataSet:\n",
    "            dist_list += [_distance(e,x)] # 计算每个点与x的距离\n",
    "        argmin_distance = np.array(dist_list).argsort() # 按照距离排序获得下标\n",
    "        kl = labels[argmin_distance[:k]]\n",
    "\n",
    "        classCount = {}\n",
    "        for i in range(k):\n",
    "            classCount[kl[i]] = classCount.get(kl[i],0)+1 # 字典赋值用法\n",
    "        sortedClassCount = sorted(classCount.items(),key=operator.itemgetter(1),reverse=True)\n",
    "        # sorted,key=operator.itemgetter(1)\n",
    "        return sortedClassCount[0][0]\n",
    "    return model\n",
    "\n",
    "def KNN(dataSet,labels,k):\n",
    "    # 矩阵写法\n",
    "    def model(x):\n",
    "        dataSetSize = dataSet.shape[0]\n",
    "        d = []\n",
    "        for a in dataSet:\n",
    "            d.append(a.tolist())\n",
    "        d = np.array(d)\n",
    "        diffMat = np.tile(x, (d.shape[0], 1)) - d\n",
    "        sqDiffMat = diffMat ** 2\n",
    "        sqDistances = sqDiffMat.sum(axis=1)\n",
    "        distances = sqDistances ** 0.5\n",
    "        sortedDistIndicies = distances.argsort()\n",
    "        classCount = {}\n",
    "        for i in range(k):\n",
    "            voteIlabel = labels[sortedDistIndicies[i]]\n",
    "            classCount[voteIlabel] = classCount.get(voteIlabel, 0) + 1\n",
    "        sortedClassCount = sorted(classCount.items(), key=operator.itemgetter(1), reverse=True)\n",
    "        return sortedClassCount[0][0]\n",
    "    return model\n",
    "\n",
    "\n",
    "\n",
    "a = np.array([[1.,1.1],[0.,0.],[1.,0.],[0,1]])\n",
    "l = np.array(['e','e','c','c'])\n",
    "b = np.array([1,1.])\n",
    "print(knn(dataSet=a,labels=l,k=3)(x=b))\n"
   ]
  },
  {
   "cell_type": "code",
   "execution_count": 17,
   "metadata": {},
   "outputs": [
    {
     "name": "stdout",
     "output_type": "stream",
     "text": [
      "[[4.0920000e+04 8.3269760e+00 9.5395200e-01]\n",
      " [1.4488000e+04 7.1534690e+00 1.6739040e+00]\n",
      " [2.6052000e+04 1.4418710e+00 8.0512400e-01]\n",
      " ...\n",
      " [2.6575000e+04 1.0650102e+01 8.6662700e-01]\n",
      " [4.8111000e+04 9.1345280e+00 7.2804500e-01]\n",
      " [4.3757000e+04 7.8826010e+00 1.3324460e+00]]\n"
     ]
    }
   ],
   "source": [
    "\n",
    "def catlines(filename,n=None):\n",
    "    with open(filename,'r') as f:\n",
    "        for lines in f:\n",
    "            print(lines,end='')\n",
    "\n",
    "def file2matrix(filename):\n",
    "    love_dictionary={'largeDoses':3, 'smallDoses':2, 'didntLike':1}\n",
    "    fr = open(filename)\n",
    "    arrayOLines = fr.readlines()\n",
    "    numberOfLines = len(arrayOLines)            #get the number of lines in the file\n",
    "    returnMat = np.zeros((numberOfLines, 3))  # prepare matrix to return\n",
    "    classLabelVector = []  # prepare labels return\n",
    "    index = 0\n",
    "    for line in arrayOLines:\n",
    "        line = line.strip()\n",
    "        listFromLine = line.split('\\t')\n",
    "        returnMat[index] = listFromLine[0:3]\n",
    "        if listFromLine[-1].isdigit():\n",
    "            classLabelVector.append(listFromLine[-1])\n",
    "        else:\n",
    "            classLabelVector.append(love_dictionary.get(listFromLine[-1]))\n",
    "        index += 1\n",
    "    classLabelVector = np.array(classLabelVector)\n",
    "    return returnMat,classLabelVector\n",
    "\n",
    "\n",
    "\n",
    "\n",
    "filename = './datingTestSet2.txt'\n",
    "M,L = file2matrix(filename)\n",
    "print(M)"
   ]
  },
  {
   "cell_type": "code",
   "execution_count": 18,
   "metadata": {},
   "outputs": [
    {
     "name": "stderr",
     "output_type": "stream",
     "text": [
      "/home/zexingxie/anaconda3/envs/pytorch/lib/python3.6/site-packages/ipykernel_launcher.py:6: MatplotlibDeprecationWarning: Adding an axes using the same arguments as a previous axes currently reuses the earlier instance.  In a future version, a new instance will always be created and returned.  Meanwhile, this warning can be suppressed, and the future behavior ensured, by passing a unique label to each axes instance.\n",
      "  \n"
     ]
    },
    {
     "data": {
      "image/png": "[encoded data removed]",
      "text/plain": [
       "<Figure size 432x288 with 1 Axes>"
      ]
     },
     "metadata": {},
     "output_type": "display_data"
    }
   ],
   "source": [
    "%matplotlib inline\n",
    "import matplotlib.pyplot as plt\n",
    "fig = plt.figure()\n",
    "plt.xlabel('Percentage of Time Spent Playing Video Games')\n",
    "plt.ylabel('Liters of Ice Cream Consumed Per Week')\n",
    "ax = fig.add_subplot(111)\n",
    "# ax.axis([-2,25,-0.2,2.0])\n",
    "import numpy as np\n",
    "L = np.array(L).astype(int)\n",
    "idx_1 = np.where(L==1)\n",
    "p1 =  ax.scatter(M[idx_1,1],M[idx_1,2],marker = '*',color = 'r',label='unlike',s=20)\n",
    "idx_2 = np.where(L==2)\n",
    "p2 =  ax.scatter(M[idx_2,1],M[idx_2,2],marker = 'o',color ='b',label='mid',s=4)\n",
    "idx_3 = np.where(L==3)\n",
    "p3 =  ax.scatter(M[idx_3,1],M[idx_3,2],marker = '+',color ='g',label='extr',s=20)\n",
    "plt.legend(loc = 'upper right')\n",
    "plt.show()"
   ]
  },
  {
   "cell_type": "code",
   "execution_count": 26,
   "metadata": {},
   "outputs": [
    {
     "name": "stdout",
     "output_type": "stream",
     "text": [
      "0.83\n",
      "0.82\n",
      "0.835\n",
      "0.835\n",
      "0.84\n",
      "0.835\n",
      "0.84\n",
      "0.855\n",
      "0.865\n",
      "0.865\n",
      "0.865\n",
      "0.865\n",
      "0.85\n",
      "0.87\n",
      "0.865\n",
      "0.87\n",
      "0.88\n"
     ]
    }
   ],
   "source": [
    "from sklearn.model_selection import train_test_split\n",
    "from sklearn.metrics import accuracy_score\n",
    "a = zip(M,L)\n",
    "trainP, testP = train_test_split(list(a), test_size=0.2,random_state=1,shuffle=False)\n",
    "predictionL = []\n",
    "trainP = np.array(trainP)\n",
    "testP = np.array(testP)\n",
    "for e in range(3,20):\n",
    "    predictionL = []\n",
    "    model = KNN(dataSet=trainP[:,0],labels=trainP[:,1],k=e)\n",
    "    for i,x in enumerate(testP[:,0]):\n",
    "        predictionL.append(model(x))\n",
    "    # accurate_1 = accuracy_score(y_true=testP[:,1],y_pred=predictionL)\n",
    "    print(np.sum(testP[:,1]==predictionL)/len(predictionL))\n",
    "   "
   ]
  },
  {
   "cell_type": "markdown",
   "metadata": {},
   "source": [
    "sklearn实现"
   ]
  },
  {
   "cell_type": "code",
   "execution_count": 71,
   "metadata": {},
   "outputs": [
    {
     "data": {
      "text/plain": [
       "0.83"
      ]
     },
     "execution_count": 71,
     "metadata": {},
     "output_type": "execute_result"
    }
   ],
   "source": [
    "from sklearn.neighbors import KNeighborsClassifier as KNN\n",
    "from sklearn.model_selection import cross_val_score\n",
    "k = KNN(n_neighbors=3)\n",
    "cross_val_score(k,M,L,cv=10).mean()\n",
    "a = zip(M,L)\n",
    "trainP, testP = train_test_split(list(a), test_size=0.2,random_state=1,shuffle=False)\n",
    "k.fit([l[0]for l in trainP],[l[1]for l in trainP]).score([l[0]for l in testP],[l[1]for l in testP])\n"
   ]
  },
  {
   "cell_type": "code",
   "execution_count": 78,
   "metadata": {},
   "outputs": [
    {
     "name": "stdout",
     "output_type": "stream",
     "text": [
      "[3.325 0.525]\n"
     ]
    }
   ],
   "source": [
    "import numpy as np\n",
    "def avgNorm(dataSet):\n",
    "    avg = np.mean(dataSet,axis=0)\n",
    "    maxVals = dataSet.max(0)\n",
    "    diff = maxVals-avg\n",
    "    diff_zero = np.where(diff == 0)\n",
    "    diff[diff_zero] = 1e-10\n",
    "    normDataSet = (dataSet-np.tile(avg,(dataSet.shape[0],1)))\\\n",
    "                  /(np.tile(diff,(dataSet.shape[0],1)))\n",
    "    return normDataSet,avg,diff\n",
    "\n",
    "def autoNorm(dataSet):\n",
    "    minVals = dataSet.min(0)\n",
    "    maxVals = dataSet.max(0)\n",
    "    diff = maxVals-minVals\n",
    "    diff_zero = np.where(diff == 0)\n",
    "\n",
    "    diff[diff_zero] = 1e-10\n",
    "    normDataSet = (dataSet-np.tile(minVals,(dataSet.shape[0],1)))\\\n",
    "                  /(np.tile(diff,(dataSet.shape[0],1)))\n",
    "    return normDataSet,minVals,diff\n",
    "\n",
    "def stdNorm(dataSet):\n",
    "    avg = np.mean(dataSet,axis=0)\n",
    "    # var = np.sum((dataSet-np.tile(avg,(dataSet.shape[0],1)))**2,axis=0)/(dataSet.shape[0]-1)\n",
    "    # var = var**(1/2)\n",
    "    X = np.std(dataSet, axis=0)\n",
    "    diff_zero = np.where(X==0)\n",
    "    X[diff_zero] = 1e-10\n",
    "\n",
    "    normDataSet = (dataSet-np.tile(avg,(dataSet.shape[0],1)))\\\n",
    "                  /X\n",
    "    return normDataSet,avg,X\n",
    "def Norm(X,a,b):\n",
    "    return (X-np.tile(a,(X.shape[0],1)))/b\n",
    "if __name__ == '__main__':\n",
    "    a = np.array([[12.,1.1],[0.3,0.],[1.,0.],[0,1]])\n",
    "    b,_1,_2 = stdNorm(a)\n",
    "    print(_1)\n"
   ]
  },
  {
   "cell_type": "markdown",
   "metadata": {},
   "source": [
    "KNN 实现手写数字识别"
   ]
  },
  {
   "cell_type": "code",
   "execution_count": 90,
   "metadata": {},
   "outputs": [
    {
     "name": "stdout",
     "output_type": "stream",
     "text": [
      "(1934, 1024)\n"
     ]
    },
    {
     "data": {
      "text/plain": [
       "0.9740981486188295"
      ]
     },
     "execution_count": 90,
     "metadata": {},
     "output_type": "execute_result"
    }
   ],
   "source": [
    "from os import listdir\n",
    "import os\n",
    "def img2vector(filename):\n",
    "    returnVec = np.zeros((1,1024))\n",
    "    fr = open(filename)\n",
    "    for i in range(32):\n",
    "        linestr = fr.readline()\n",
    "        for j in range(32):\n",
    "            returnVec[0,32*i+j] = int(linestr[j])\n",
    "    return returnVec[0]\n",
    "def blockMemory(dir):\n",
    "    hwLabels = []\n",
    "    Memory = []\n",
    "    trainingFileList = listdir(dir)\n",
    "    for f_all_name in trainingFileList:\n",
    "        label = f_all_name.split('_')[0]\n",
    "        hwLabels.append(label)\n",
    "        tem = img2vector(os.path.join(dir,f_all_name))\n",
    "        Memory.append(tem)\n",
    "    Memory = np.array(Memory)\n",
    "    hwLabels = np.array(hwLabels)\n",
    "    return Memory,hwLabels\n",
    "M,L = blockMemory('./trainingDigits/')\n",
    "print(M.shape)\n",
    "from sklearn.neighbors import KNeighborsClassifier as KNN\n",
    "from sklearn.model_selection import cross_val_score\n",
    "k = KNN(n_neighbors=3)\n",
    "cross_val_score(k,M,L,cv=10).mean()\n"
   ]
  },
  {
   "cell_type": "code",
   "execution_count": 91,
   "metadata": {},
   "outputs": [
    {
     "name": "stdout",
     "output_type": "stream",
     "text": [
      "(1934, 854)\n"
     ]
    },
    {
     "data": {
      "text/plain": [
       "0.9740981486188295"
      ]
     },
     "execution_count": 91,
     "metadata": {},
     "output_type": "execute_result"
    }
   ],
   "source": [
    "from sklearn.preprocessing import StandardScaler\n",
    "from sklearn.feature_selection import VarianceThreshold\n",
    "scaler = StandardScaler()\n",
    "# M = scaler.fit_transform(M)\n",
    "M = VarianceThreshold().fit_transform(M)\n",
    "print(M.shape)\n",
    "k = KNN(n_neighbors=3)\n",
    "cross_val_score(k,M,L,cv=10).mean()"
   ]
  },
  {
   "cell_type": "code",
   "execution_count": null,
   "metadata": {
    "collapsed": true
   },
   "outputs": [],
   "source": []
  }
 ],
 "metadata": {
  "kernelspec": {
   "display_name": "Python 3",
   "language": "python",
   "name": "python3"
  },
  "language_info": {
   "codemirror_mode": {
    "name": "ipython",
    "version": 3
   },
   "file_extension": ".py",
   "mimetype": "text/x-python",
   "name": "python",
   "nbconvert_exporter": "python",
   "pygments_lexer": "ipython3",
   "version": "3.6.3"
  }
 },
 "nbformat": 4,
 "nbformat_minor": 2
}
