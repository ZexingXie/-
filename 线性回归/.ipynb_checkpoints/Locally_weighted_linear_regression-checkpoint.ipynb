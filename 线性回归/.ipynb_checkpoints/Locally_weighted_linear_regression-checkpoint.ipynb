{
 "cells": [
  {
   "cell_type": "markdown",
   "metadata": {},
   "source": [
    "生成数据假设 "
   ]
  },
  {
   "cell_type": "markdown",
   "metadata": {},
   "source": [
    "$y1 = a\\sin(x)+bsin(x^2)+csin(x^3)+noise, y2 = ax+bx^2+cx^3$\n"
   ]
  },
  {
   "cell_type": "code",
   "execution_count": 715,
   "metadata": {},
   "outputs": [],
   "source": [
    "import numpy as np\n",
    "\n",
    "data_size = [100,1]\n",
    "x = np.random.uniform(low=0, high=0.9, size = (data_size[0],1)) # x默认不变\n",
    "w1 = np.random.uniform(size = (x_true_1.shape[1],1)) # a,b,c,...\n",
    "\n",
    "# 样例1 数据（x,y1）根据一个x人工造特征feature=(sinx,sinx^2,sinx^3)\n",
    "x_append = x # (x,x^2,x^3,...)\n",
    "for i in range(2,4):\n",
    "    x_append = np.concatenate((x_append, x**i),axis=1)\n",
    "x_true_1 = np.sin(x_append)\n",
    "y1 = np.dot(x_true_1,w1) + np.random.normal(0, 0.2, data_size[0]).reshape(data_size[0],1)\n",
    "\n",
    "# 样例2 数据（x,y1）根据一个x人工造特征feature=(x,x^2,x^3)\n",
    "x_true_2 = x_append\n",
    "y2 = np.dot(x_true_2,w1) + np.random.normal(0, 0.2, data_size[0]).reshape(data_size[0],1)\n",
    "\n",
    "def f1(t):\n",
    "    a = 0\n",
    "    for i in range(1,w1.shape[0]+1):\n",
    "        a += np.sin(t**i) * w1[i-1]\n",
    "    return a\n",
    "def f2(t):\n",
    "    a = 0\n",
    "    for i in range(1,w1.shape[0]+1):\n",
    "        a += t**i * w1[i-1]\n",
    "    return a"
   ]
  },
  {
   "cell_type": "markdown",
   "metadata": {},
   "source": [
    "绘图，看看样本数据"
   ]
  },
  {
   "cell_type": "code",
   "execution_count": 716,
   "metadata": {},
   "outputs": [
    {
     "data": {
      "image/png": "[encoded data removed]",
      "text/plain": [
       "<Figure size 432x288 with 2 Axes>"
      ]
     },
     "metadata": {
      "needs_background": "light"
     },
     "output_type": "display_data"
    }
   ],
   "source": [
    "import matplotlib.pyplot as plt\n",
    "plt.figure(14) \n",
    "plt.subplot(121)\n",
    "plt.scatter(x,y1)\n",
    "t1 = np.arange(0, 1, 0.0001) \n",
    "plt.plot(t1, f1(t1), 'r--')\n",
    "plt.subplot(122)\n",
    "plt.scatter(x,y2)\n",
    "plt.plot(t1, f2(t1), 'r--')\n",
    "plt.show()"
   ]
  },
  {
   "cell_type": "markdown",
   "metadata": {},
   "source": [
    "划分数据train和test,利用随机数划分或者 from sklearn.model_selection 使用专门的数据划分库"
   ]
  },
  {
   "cell_type": "markdown",
   "metadata": {},
   "source": [
    "得到数据（x_train_1,y_train_1）（x_test_1,y_test_1）(x_train_2,y_train_2）（x_test_2,y_test_2）"
   ]
  },
  {
   "cell_type": "code",
   "execution_count": 717,
   "metadata": {},
   "outputs": [],
   "source": [
    "shuffled_index = np.random.permutation(data_size[0])\n",
    "x_split = x[shuffled_index]\n",
    "y_split_1 = y1[shuffled_index]\n",
    "split_index = int(data_size[0] * 0.7)\n",
    "\n",
    "x_train_1 = x[:split_index]\n",
    "y_train_1 = y_split_1[:split_index]\n",
    "x_test_1 = x[split_index:]\n",
    "y_test_1 = y_split_1[split_index:]"
   ]
  },
  {
   "cell_type": "code",
   "execution_count": 718,
   "metadata": {},
   "outputs": [],
   "source": [
    "from sklearn.model_selection import train_test_split\n",
    "x_train_2, x_test_2, y_train_2, y_test_2 = train_test_split(x, y2, test_size=0.3)\n"
   ]
  },
  {
   "cell_type": "markdown",
   "metadata": {},
   "source": [
    "构造模型$y = \\sum_{i=0}^{d}\\theta_i*x^i$，此处x的i表示x的指数\n",
    "当d<6,不加正则化效果更好，可以认为真实y含有$x^1,x^2,x^3$,正则化惩罚约束造成收敛变慢\n",
    "但d》6,正则化表现出对错误过多维度估计的约束。但效果也提高不大。"
   ]
  },
  {
   "cell_type": "code",
   "execution_count": 719,
   "metadata": {},
   "outputs": [],
   "source": [
    "def return_feature(x,maxexpon):\n",
    "    if x.shape[1]!=1:\n",
    "        return -1\n",
    "    x_tem = x\n",
    "    for i in range(2,maxexpoe):\n",
    "        x_tem = np.concatenate((x_tem, x**i),axis=1)\n",
    "    return x_tem\n",
    "    \n",
    "\n",
    "maxexpoe = 30 # 特征维度最高值\n",
    "x_train_feature = return_feature(x_train_1,maxexpoe) "
   ]
  },
  {
   "cell_type": "code",
   "execution_count": 720,
   "metadata": {},
   "outputs": [
    {
     "name": "stdout",
     "output_type": "stream",
     "text": [
      "finish train 20000\n",
      "线性回归对于f1训练20000损失为:1.2692869316452315\n",
      "finish train 20000\n",
      "L2正则化线性回归对于f1训练20000损失为:1.1579593166385214\n"
     ]
    }
   ],
   "source": [
    "import Ipynb_importer\n",
    "from liner_regression import LinerRegression,LinerRegression_L2\n",
    "max_iter = 2*(10)**4 # 最大迭代次数\n",
    "learning_rate = 10**-6\n",
    "\n",
    "model1 = LinerRegression(max_iter=max_iter,learning_rate=learning_rate,seed=1)\n",
    "model1.fit(x_train_feature, y_train_1)\n",
    "print(\"线性回归对于f1训练%d损失为\"%max_iter,end=':')\n",
    "print(model1.loss_arr[-1])\n",
    "model2 = LinerRegression_L2(max_iter=max_iter,learning_rate=learning_rate,seed=1)\n",
    "model2.fit(x_train_feature, y_train_1)\n",
    "print(\"L2正则化线性回归对于f1训练%d损失为\"%max_iter,end=':')\n",
    "print(model2.loss_arr[-1])\n"
   ]
  },
  {
   "cell_type": "code",
   "execution_count": 721,
   "metadata": {},
   "outputs": [
    {
     "name": "stdout",
     "output_type": "stream",
     "text": [
      "线性回归对于f1测试集损失为:1.1745299485628709\n",
      "L2线性回归对于f1测试集损失为:1.068533813298235\n"
     ]
    }
   ],
   "source": [
    "yl1 = model1.predict(return_feature(x_test_1,maxexpoe))\n",
    "print(\"线性回归对于f1测试集损失为\",end=':')\n",
    "print(model1.loss(y_test_1,yl1))\n",
    "yl2 = model2.predict(return_feature(x_test_1,maxexpoe))\n",
    "print(\"L2线性回归对于f1测试集损失为\",end=':')\n",
    "print(model2.loss(y_test_1,yl2))"
   ]
  },
  {
   "cell_type": "markdown",
   "metadata": {},
   "source": [
    "结果证明正则化提高了模型泛化能力，我们再测试一下第二个函数,结果类似AG课上所举例的效果"
   ]
  },
  {
   "cell_type": "code",
   "execution_count": 722,
   "metadata": {},
   "outputs": [
    {
     "name": "stdout",
     "output_type": "stream",
     "text": [
      "finish train 80000\n",
      "线性回归对于f2训练损失为:0.9663566318502514\n",
      "finish train 80000\n",
      "L2正则化线性回归对于f2训练损失为:0.26683927893386455\n",
      "线性回归对于f2测试集损失为:0.9200953665363364\n",
      "L2正则化线性回归对于f2测试集损失为:0.2301855596307942\n"
     ]
    }
   ],
   "source": [
    "max_iter = 8*(10)**4 # 最大迭代次数\n",
    "model1 = LinerRegression(max_iter=max_iter,learning_rate=0.000001)\n",
    "model1.fit(return_feature(x_train_2,maxexpoe), y_train_2)\n",
    "print(\"线性回归对于f2训练损失为\",end=':')\n",
    "print(model1.loss_arr[-1])\n",
    "model2 = LinerRegression_L2(max_iter=max_iter,learning_rate=0.000001)\n",
    "model2.fit(return_feature(x_train_2,maxexpoe), y_train_1)\n",
    "print(\"L2正则化线性回归对于f2训练损失为\",end=':')\n",
    "print(model2.loss_arr[-1])\n",
    "yl1 = model1.predict(return_feature(x_test_2,maxexpoe))\n",
    "print(\"线性回归对于f2测试集损失为\",end=':')\n",
    "print(model1.loss(y_test_2,yl1))\n",
    "yl2 = model2.predict(return_feature(x_test_2,maxexpoe))\n",
    "print(\"L2正则化线性回归对于f2测试集损失为\",end=':')\n",
    "print(model2.loss(y_test_2,yl2))"
   ]
  },
  {
   "cell_type": "markdown",
   "metadata": {},
   "source": [
    "使用加权局部线性回归"
   ]
  },
  {
   "cell_type": "markdown",
   "metadata": {},
   "source": [
    "作为第一个学习的非参数Model，它和普通线性回归的区别在于，需要保存训练数据。我的理解是当预测问题时他需要把预测数据的变量代入再次训练，通过使训练集中部分有‘价值’的数据更活跃来更新参数"
   ]
  },
  {
   "cell_type": "markdown",
   "metadata": {},
   "source": [
    " $J(\\theta)=\\sum_{i=1}^{m}w^{(i)}*(y^{(i)}-\\theta x^{(i)})^2$\n",
    " $$\\frac{\\partial J(\\theta)}{\\partial \\theta_j} = -2x_j* \\sum_{i=1}^{m}w^i(y^(i)-g(x^{(i)}))$$其中\n",
    " $ w^i = \\exp{\\frac{(x-x^{(i)})^2}{-2k^2}} $"
   ]
  },
  {
   "cell_type": "code",
   "execution_count": 723,
   "metadata": {},
   "outputs": [],
   "source": [
    "import Ipynb_importer\n",
    "from liner_regression import LinerRegression,LinerRegression_L2\n",
    "class Locally_weighted_linear_regression(LinerRegression):\n",
    "    def __init__(self,learning_rate=0.01, max_iter=100,seed=None):\n",
    "        LinerRegression.__init__(self,learning_rate=learning_rate, max_iter=max_iter,seed=seed)\n",
    "    def _train_step_again(self):\n",
    "        d_w, d_b = self._calc_gradient_again()\n",
    "        self.w = self.w - self.lr * d_w\n",
    "        self.b = self.b - self.lr * d_b\n",
    "        return self.w, self.b    \n",
    "    def _calc_gradient_again(self):    \n",
    "        d_w = np.mean(self.x * self.lw_w * (- self.y_true + LinerRegression.predict(self)),axis=0).reshape(self.x.shape[1],1)\n",
    "        d_b = np.mean((self.lw_w *(- self.y_true + LinerRegression.predict(self))),axis=0)\n",
    "        return d_w,d_b\n",
    "    def distance(self, A, b, k=1):\n",
    "        return (np.exp(np.mean((A-b)**2,axis=1) / (-2*k**2))).reshape([-1,1])\n",
    "    def newpredict(self,x=None):\n",
    "        if x is None:\n",
    "            x = self.x\n",
    "        y_pred = []\n",
    "        for a in x:   \n",
    "            self.lw_w = distance(self.x,a)\n",
    "            for i in range(1000):\n",
    "                self._train_step_again()\n",
    "            # print('finish train %d'%self.max_iter)\n",
    "            y_pred.append(self._f(a,self.w,self.b))\n",
    "        return np.array(y_pred)\n",
    "    "
   ]
  },
  {
   "cell_type": "markdown",
   "metadata": {},
   "source": [
    "比较训练几乎相同次数下是否加入局部权重的效果,结果有些奇怪，也许是算法理解的偏差等待之后改进\n"
   ]
  },
  {
   "cell_type": "code",
   "execution_count": 726,
   "metadata": {},
   "outputs": [
    {
     "name": "stdout",
     "output_type": "stream",
     "text": [
      "finish train 201000\n",
      "finish train 200000\n",
      "0.7454238703777261\n",
      "0.7088390163080552\n",
      "0.6099299034458034\n",
      "0.5339543477836491\n"
     ]
    }
   ],
   "source": [
    "max_iter = 2*(10)**5\n",
    "model_noweight = LinerRegression(max_iter=max_iter+1000,learning_rate=0.000001,seed=11)\n",
    "model_noweight.fit(return_feature(x_train_1,maxexpoe),y_train_1)\n",
    "model_weight = Locally_weighted_linear_regression(max_iter=max_iter,learning_rate=0.000001,seed=11)\n",
    "model_weight.fit(return_feature(x_train_1,maxexpoe),y_train_1)\n",
    "print(model_noweight.loss(y_train_1,model_noweight.predict(return_feature(x_train_1,maxexpoe))))\n",
    "print(model_noweight.loss(y_train_1,model_weight.newpredict(return_feature(x_train_1,maxexpoe))))\n",
    "print(model_noweight.loss(y_test_1,model_noweight.predict(return_feature(x_test_1,maxexpoe))))\n",
    "print(model_noweight.loss(y_test_1,model_weight.newpredict(return_feature(x_test_1,maxexpoe))))\n",
    "\n",
    "\n"
   ]
  },
  {
   "cell_type": "code",
   "execution_count": 727,
   "metadata": {},
   "outputs": [
    {
     "name": "stdout",
     "output_type": "stream",
     "text": [
      "finish train 201000\n",
      "finish train 200000\n",
      "1.0006880649225511\n",
      "0.987921707561483\n",
      "0.8208855867000344\n",
      "0.7973063622827515\n"
     ]
    }
   ],
   "source": [
    "max_iter = 2*(10)**5\n",
    "model_noweight = LinerRegression(max_iter=max_iter+1000,learning_rate=0.000001,seed=122)\n",
    "model_noweight.fit(return_feature(x_train_2,maxexpoe),y_train_2)\n",
    "model_weight = Locally_weighted_linear_regression(max_iter=max_iter,learning_rate=0.000001,seed=122)\n",
    "model_weight.fit(return_feature(x_train_2,maxexpoe),y_train_2)\n",
    "print(model_noweight.loss(y_train_2,model_noweight.predict(return_feature(x_train_2,maxexpoe))))\n",
    "print(model_noweight.loss(y_train_2,model_weight.newpredict(return_feature(x_train_2,maxexpoe))))\n",
    "print(model_noweight.loss(y_test_2,model_noweight.predict(return_feature(x_test_2,maxexpoe))))\n",
    "print(model_noweight.loss(y_test_2,model_weight.newpredict(return_feature(x_test_2,maxexpoe))))"
   ]
  },
  {
   "cell_type": "markdown",
   "metadata": {},
   "source": []
  }
 ],
 "metadata": {
  "kernelspec": {
   "display_name": "Python 3",
   "language": "python",
   "name": "python3"
  },
  "language_info": {
   "codemirror_mode": {
    "name": "ipython",
    "version": 3
   },
   "file_extension": ".py",
   "mimetype": "text/x-python",
   "name": "python",
   "nbconvert_exporter": "python",
   "pygments_lexer": "ipython3",
   "version": "3.6.8"
  }
 },
 "nbformat": 4,
 "nbformat_minor": 2
}
