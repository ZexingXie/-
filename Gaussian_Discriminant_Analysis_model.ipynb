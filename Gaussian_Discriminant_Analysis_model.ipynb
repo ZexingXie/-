{
 "cells": [
  {
   "cell_type": "code",
   "execution_count": 1,
   "metadata": {},
   "outputs": [
    {
     "name": "stdout",
     "output_type": "stream",
     "text": [
      "<Y_t>\n",
      "[0 0 0 0 0 0 0 0 0 0 1 1 1 1 1 1 1 1 1 1]\n",
      "[0.23668668 0.09760794 0.13618492 0.16693602 0.1364129  0.12701738\n",
      " 0.13071638 0.17023585 0.10816715 0.11958469 0.83666984 0.82556357\n",
      " 0.9213714  0.81564266 0.91934219 0.75309677 0.92179552 0.8147437\n",
      " 0.84047507 0.87130044]\n",
      "None\n"
     ]
    },
    {
     "name": "stderr",
     "output_type": "stream",
     "text": [
      "ERROR:root:Invalid alias: The name clear can't be aliased because it is another magic command.\n",
      "ERROR:root:Invalid alias: The name more can't be aliased because it is another magic command.\n",
      "ERROR:root:Invalid alias: The name less can't be aliased because it is another magic command.\n",
      "ERROR:root:Invalid alias: The name man can't be aliased because it is another magic command.\n"
     ]
    }
   ],
   "source": [
    "import numpy as np\n",
    "import matplotlib.pyplot as plt\n",
    "\n",
    "class GDA(object):\n",
    "\n",
    "    def __init__(self):\n",
    "        self.Mu0, self.Mu1, self.Sigma = None, None, None\n",
    "        self.w, self.b, self.sign = None, None, None\n",
    "\n",
    "    def _cov(self,a,b):\n",
    "        sum_mean = 0\n",
    "        mean_a = np.mean(a)\n",
    "        mean_b = np.mean(b)\n",
    "        for i in range(len(a)):\n",
    "            sum_mean += (a[i]-mean_a)*(b[i]-mean_b)\n",
    "        sum_mean /= len(a)-1\n",
    "        return sum_mean\n",
    "\n",
    "\n",
    "    def fit(self, X_train, Y_train):\n",
    "        self.mean0 = np.mean(X_train[Y_train == 0], 0)\n",
    "        self.mean1 = np.mean(X_train[Y_train == 1], 0)\n",
    "\n",
    "        dif = X_train.T\n",
    "        self.dim = dif.shape[0]\n",
    "        self.D = np.zeros([self.dim,self.dim]).T\n",
    "        for i in range(self.dim):\n",
    "            for j in range(self.dim):\n",
    "            # j = i\n",
    "                self.D[i][j] = self._cov(dif[i],dif[j])\n",
    "\n",
    "\n",
    "\n",
    "\n",
    "\n",
    "    def predict(self, X):\n",
    "\n",
    "        px_0 = 1/((2*np.pi)**(self.dim/2)*(np.linalg.det(self.D))**(1/2))\\\n",
    "            *np.exp((-1/2)*\\\n",
    "                    np.dot(np.dot((X-self.mean0),np.linalg.inv(self.D)),(X-self.mean0).T).diagonal())\n",
    "        px_1 = 1 / ((2 * np.pi) ** (self.dim / 2) * (np.linalg.det(self.D)) ** (1 / 2)) \\\n",
    "               * np.exp((-1 / 2) * \\\n",
    "                        np.dot(np.dot((X - self.mean1), np.linalg.inv(self.D)), (X - self.mean1).T).diagonal())\n",
    "        print(px_1/(px_1+px_0))\n",
    "        exit()\n",
    "        pass\n",
    "\n",
    "\n",
    "def _GenerateData():\n",
    "    import random\n",
    "    m, n_train, n_val, interval = 2, 10, 2, 1\n",
    "    X_train, X_val, Y_train, Y_val = [], [], [], []\n",
    "    color = ['c', 'r']\n",
    "    def _generateOne(X, Y, i):\n",
    "        i += 1\n",
    "        x, y, l = random.uniform((int(i / 2) + 0.1) * 10, (int(i / 2) + 0.9) * 10), random.uniform((int(i / 2) + 0.1) * 10, (int(i / 2) + 0.9) * 10), i\n",
    "        X.append((x, y))\n",
    "        Y.append(i - 1)\n",
    "        return x, y\n",
    "    for i_ in range(m):\n",
    "        for _ in range(n_train):\n",
    "            x_, y_ = _generateOne(X_train, Y_train, i_)\n",
    "            plt.scatter(x_, y_, s=60, c=color[i_], alpha=0.3)\n",
    "        for i_ in range(n_val):\n",
    "            _generateOne(X_val, X_val, i_)\n",
    "    return np.array(X_train), np.array(X_val), np.array(Y_train), np.array(Y_val)\n",
    "\n",
    "if __name__ == '__main__':\n",
    "    model = GDA()\n",
    "    X_t, X_v, Y_t, Y_v = _GenerateData()\n",
    "    print('<Y_t>')\n",
    "    print(Y_t)\n",
    "    model.fit(X_t, Y_t)\n",
    "    print(model.predict(X_t))"
   ]
  },
  {
   "cell_type": "code",
   "execution_count": null,
   "metadata": {},
   "outputs": [],
   "source": []
  }
 ],
 "metadata": {
  "kernelspec": {
   "display_name": "Python 3",
   "language": "python",
   "name": "python3"
  },
  "language_info": {
   "codemirror_mode": {
    "name": "ipython",
    "version": 3
   },
   "file_extension": ".py",
   "mimetype": "text/x-python",
   "name": "python",
   "nbconvert_exporter": "python",
   "pygments_lexer": "ipython3",
   "version": "3.6.8"
  }
 },
 "nbformat": 4,
 "nbformat_minor": 2
}
